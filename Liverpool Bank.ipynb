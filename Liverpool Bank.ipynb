{
 "cells": [
  {
   "cell_type": "markdown",
   "id": "bd0f9da3",
   "metadata": {},
   "source": [
    "PROJECT"
   ]
  },
  {
   "cell_type": "code",
   "execution_count": 1,
   "id": "741883fa",
   "metadata": {},
   "outputs": [
    {
     "ename": "SyntaxError",
     "evalue": "invalid syntax (<ipython-input-1-7330debd0022>, line 1)",
     "output_type": "error",
     "traceback": [
      "\u001b[1;36m  File \u001b[1;32m\"<ipython-input-1-7330debd0022>\"\u001b[1;36m, line \u001b[1;32m1\u001b[0m\n\u001b[1;33m    Define a dataframe named 'Bank_df_1' that contains the first and last names for 5 bank clients with IDs = 1, 2, 3, 4, 5\u001b[0m\n\u001b[1;37m           ^\u001b[0m\n\u001b[1;31mSyntaxError\u001b[0m\u001b[1;31m:\u001b[0m invalid syntax\n"
     ]
    }
   ],
   "source": [
    "Define a dataframe named 'Bank_df_1' that contains the first and last names for 5 bank clients with IDs = 1, 2, 3, 4, 5\n",
    "Assume that the bank got 5 new clients, define another dataframe named 'Bank_df_2' that contains a new clients with IDs = 6, 7, 8, 9, 10\n",
    "Let's assume we obtained additional information (Annual Salary) about all our bank customers (10 customers)\n",
    "Concatenate both 'bank_df_1' and 'bank_df_2' dataframes\n",
    "Merge client names and their newly added salary information using the 'Bank Client ID'\n",
    "Let's assume that you became a new client to the bank\n",
    "Define a new DataFrame that contains your information such as client ID (choose 11), first name, last name, and annual salary.\n",
    "Add this new dataframe to the original dataframe 'bank_df_all'."
   ]
  },
  {
   "cell_type": "code",
   "execution_count": null,
   "id": "ce9fbc05",
   "metadata": {},
   "outputs": [],
   "source": [
    "#I'm going to start off by defining the 'Bank_df_1' dataframe\n",
    "import pandas as pd #importing pandas and aliasing it as pd \n",
    "\n",
    "Bank_df_1 = pd.DataFrame({'First Name':['Mohamed','Sadio','Roberto','Gini','Jordan'],\n",
    "                          'Last Name':['Salah','Mane','Firmino','Wijnaldum','Henderson'],\n",
    "                          'Bank Client ID':[1,2,3,4,5]}) #I'm actually not going to specify an index right now, we'll fix that later on with index = True\n",
    "Bank_df_1"
   ]
  },
  {
   "cell_type": "code",
   "execution_count": null,
   "id": "ac59bc97",
   "metadata": {},
   "outputs": [],
   "source": [
    "#defining the second dataframe 'Bank_df_2'\n",
    "\n",
    "Bank_df_2 = pd.DataFrame({'First Name':['Virgil','Trent','James','Alisson','Diogo'],\n",
    "                          'Last Name':['Van Dijk','Alexander-Arnold','Milner','Becker','Jota'],\n",
    "                          'Bank Client ID':[6,7,8,9,10]})\n",
    "Bank_df_2"
   ]
  },
  {
   "cell_type": "code",
   "execution_count": null,
   "id": "4f7d05d4",
   "metadata": {},
   "outputs": [],
   "source": [
    "concat_df = pd.concat([Bank_df_1,Bank_df_2],axis=0)\n",
    "concat_df "
   ]
  },
  {
   "cell_type": "markdown",
   "id": "9a781ce8",
   "metadata": {},
   "source": [
    "I wanted to keep going with the Liverpool theme, and I want this mini-project to have realistic touches so I'm going\n",
    "to actually pull real data about the annual salaries of these players from a credible source: https://lfcglobe.co.uk/liverpool-fc-players-wages-contract-details/. I'll manually input the information, but I'll create another project that I'll import all of the necessary modules and actually web-scrape the data."
   ]
  },
  {
   "cell_type": "code",
   "execution_count": null,
   "id": "43cd22b1",
   "metadata": {},
   "outputs": [],
   "source": [
    "#Going to implement data from the url so I can read it here\n",
    "#'Bank Client ID' will be the foreign Key that'll allow us to later on merge tables\n",
    "\n",
    "Bank_df_3 = pd.DataFrame({'Bank Client ID':[1,2,3,4,5,6,7,8,9,10],\n",
    "                         'Annual Salary £':[10400000,5200000,9360000,4680000,7280000,9360000,3120000,7280000,7800000,4680000]})\n",
    "Bank_df_3\n",
    "\n"
   ]
  },
  {
   "cell_type": "code",
   "execution_count": null,
   "id": "ffcbe9e8",
   "metadata": {
    "scrolled": true
   },
   "outputs": [],
   "source": [
    "#Time to merge Bank_df_3 to concat_df\n",
    "new_bank_df = concat_df.merge(Bank_df_3, how = 'inner', on = 'Bank Client ID')\n",
    "new_bank_df\n",
    "\n",
    "#I think inner is the default anyway, but I'll keep specifying for good practice\n"
   ]
  },
  {
   "cell_type": "code",
   "execution_count": null,
   "id": "ee6ab300",
   "metadata": {},
   "outputs": [],
   "source": [
    "new_client = pd.DataFrame({'First Name':['Samantha'],\n",
    "                          'Last Name':['Menyah'],\n",
    "                          'Bank Client ID':[11],\n",
    "                          'Annual Salary £':[75000]})\n",
    "new_client"
   ]
  },
  {
   "cell_type": "code",
   "execution_count": null,
   "id": "a8f5a959",
   "metadata": {},
   "outputs": [],
   "source": [
    "#Add this new dataframe to the original dataframe 'bank_df_all'\n",
    "bank_df_all = pd.concat([new_bank_df,new_client], ignore_index = True) #used ignore_index so the indexes match\n",
    "bank_df_all"
   ]
  },
  {
   "cell_type": "markdown",
   "id": "4a704828",
   "metadata": {},
   "source": [
    "#FINISHED"
   ]
  }
 ],
 "metadata": {
  "kernelspec": {
   "display_name": "Python 3",
   "language": "python",
   "name": "python3"
  },
  "language_info": {
   "codemirror_mode": {
    "name": "ipython",
    "version": 3
   },
   "file_extension": ".py",
   "mimetype": "text/x-python",
   "name": "python",
   "nbconvert_exporter": "python",
   "pygments_lexer": "ipython3",
   "version": "3.9.2"
  }
 },
 "nbformat": 4,
 "nbformat_minor": 5
}
